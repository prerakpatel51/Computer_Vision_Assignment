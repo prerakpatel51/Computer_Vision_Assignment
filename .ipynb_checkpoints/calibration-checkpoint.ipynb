{
 "cells": [
  {
   "cell_type": "markdown",
   "metadata": {
    "colab_type": "text",
    "id": "view-in-github"
   },
   "source": [
    "<a href=\"https://colab.research.google.com/github/prerakpatel51/Assignment/blob/main/Welcome_To_Colab.ipynb\" target=\"_parent\"><img src=\"https://colab.research.google.com/assets/colab-badge.svg\" alt=\"Open In Colab\"/></a>"
   ]
  },
  {
   "cell_type": "code",
   "execution_count": 1,
   "metadata": {},
   "outputs": [
    {
     "name": "stdout",
     "output_type": "stream",
     "text": [
      "Environment: Jupyter Notebook\n",
      "Working directory: /Users/prerak/Desktop/Computer_vision_Assignment\n"
     ]
    }
   ],
   "source": [
    "# Environment Detection & Setup\n",
    "import sys, os\n",
    "\n",
    "# Detect environment & setup\n",
    "IN_COLAB = 'google.colab' in sys.modules\n",
    "IN_JUPYTER = 'ipykernel' in sys.modules and not IN_COLAB\n",
    "print(f\"Environment: {'Google Colab' if IN_COLAB else 'Jupyter Notebook' if IN_JUPYTER else 'Unknown'}\")\n",
    "\n",
    "if IN_COLAB:\n",
    "    from google.colab import drive\n",
    "    drive.mount('/content/drive')\n",
    "    %cd /content/drive/MyDrive/Colab Notebooks/pinhole\n",
    "    print(\"Google Drive mounted and directory changed\")\n",
    "else:\n",
    "    print(f\"Working directory: {os.getcwd()}\")"
   ]
  },
  {
   "cell_type": "code",
   "execution_count": 2,
   "metadata": {},
   "outputs": [
    {
     "name": "stdout",
     "output_type": "stream",
     "text": [
      "\u001b[33mDEPRECATION: Configuring installation scheme with distutils config files is deprecated and will no longer work in the near future. If you are using a Homebrew or Linuxbrew Python, please see discussion at https://github.com/Homebrew/homebrew-core/issues/76621\u001b[0m\u001b[33m\n",
      "\u001b[0mRequirement already satisfied: opencv-python-headless>=4.8 in /opt/homebrew/lib/python3.9/site-packages (from -r requirements.txt (line 1)) (4.8.0.74)\n",
      "Requirement already satisfied: numpy>=1.24 in /Users/prerak/Library/Python/3.9/lib/python/site-packages (from -r requirements.txt (line 2)) (2.0.2)\n",
      "Requirement already satisfied: matplotlib>=3.7 in /Users/prerak/Library/Python/3.9/lib/python/site-packages (from -r requirements.txt (line 3)) (3.9.4)\n",
      "Requirement already satisfied: plotly>=5.20 in /Users/prerak/Library/Python/3.9/lib/python/site-packages (from -r requirements.txt (line 4)) (6.3.0)\n",
      "Requirement already satisfied: gradio>=4.0 in /opt/homebrew/lib/python3.9/site-packages (from -r requirements.txt (line 5)) (4.44.1)\n",
      "Requirement already satisfied: pillow>=9.0 in /opt/homebrew/lib/python3.9/site-packages (from -r requirements.txt (line 6)) (9.4.0)\n",
      "Requirement already satisfied: contourpy>=1.0.1 in /Users/prerak/Library/Python/3.9/lib/python/site-packages (from matplotlib>=3.7->-r requirements.txt (line 3)) (1.3.0)\n",
      "Requirement already satisfied: cycler>=0.10 in /Users/prerak/Library/Python/3.9/lib/python/site-packages (from matplotlib>=3.7->-r requirements.txt (line 3)) (0.12.1)\n",
      "Requirement already satisfied: fonttools>=4.22.0 in /Users/prerak/Library/Python/3.9/lib/python/site-packages (from matplotlib>=3.7->-r requirements.txt (line 3)) (4.59.1)\n",
      "Requirement already satisfied: kiwisolver>=1.3.1 in /Users/prerak/Library/Python/3.9/lib/python/site-packages (from matplotlib>=3.7->-r requirements.txt (line 3)) (1.4.7)\n",
      "Requirement already satisfied: packaging>=20.0 in /Users/prerak/Library/Python/3.9/lib/python/site-packages (from matplotlib>=3.7->-r requirements.txt (line 3)) (25.0)\n",
      "Requirement already satisfied: pyparsing>=2.3.1 in /Users/prerak/Library/Python/3.9/lib/python/site-packages (from matplotlib>=3.7->-r requirements.txt (line 3)) (3.2.3)\n",
      "Requirement already satisfied: python-dateutil>=2.7 in /Users/prerak/Library/Python/3.9/lib/python/site-packages (from matplotlib>=3.7->-r requirements.txt (line 3)) (2.9.0.post0)\n",
      "Requirement already satisfied: importlib-resources>=3.2.0 in /Users/prerak/Library/Python/3.9/lib/python/site-packages (from matplotlib>=3.7->-r requirements.txt (line 3)) (6.5.2)\n",
      "Requirement already satisfied: narwhals>=1.15.1 in /Users/prerak/Library/Python/3.9/lib/python/site-packages (from plotly>=5.20->-r requirements.txt (line 4)) (2.2.0)\n",
      "Requirement already satisfied: aiofiles<24.0,>=22.0 in /opt/homebrew/lib/python3.9/site-packages (from gradio>=4.0->-r requirements.txt (line 5)) (23.2.1)\n",
      "Requirement already satisfied: anyio<5.0,>=3.0 in /opt/homebrew/lib/python3.9/site-packages (from gradio>=4.0->-r requirements.txt (line 5)) (4.2.0)\n",
      "Requirement already satisfied: fastapi<1.0 in /opt/homebrew/lib/python3.9/site-packages (from gradio>=4.0->-r requirements.txt (line 5)) (0.116.1)\n",
      "Requirement already satisfied: ffmpy in /opt/homebrew/lib/python3.9/site-packages (from gradio>=4.0->-r requirements.txt (line 5)) (0.6.1)\n",
      "Requirement already satisfied: gradio-client==1.3.0 in /opt/homebrew/lib/python3.9/site-packages (from gradio>=4.0->-r requirements.txt (line 5)) (1.3.0)\n",
      "Requirement already satisfied: httpx>=0.24.1 in /opt/homebrew/lib/python3.9/site-packages (from gradio>=4.0->-r requirements.txt (line 5)) (0.27.0)\n",
      "Requirement already satisfied: huggingface-hub>=0.19.3 in /opt/homebrew/lib/python3.9/site-packages (from gradio>=4.0->-r requirements.txt (line 5)) (0.21.4)\n",
      "Requirement already satisfied: jinja2<4.0 in /Users/prerak/Library/Python/3.9/lib/python/site-packages (from gradio>=4.0->-r requirements.txt (line 5)) (3.1.6)\n",
      "Requirement already satisfied: markupsafe~=2.0 in /opt/homebrew/lib/python3.9/site-packages (from gradio>=4.0->-r requirements.txt (line 5)) (2.1.3)\n",
      "Requirement already satisfied: orjson~=3.0 in /opt/homebrew/lib/python3.9/site-packages (from gradio>=4.0->-r requirements.txt (line 5)) (3.11.3)\n",
      "Requirement already satisfied: pandas<3.0,>=1.0 in /Users/prerak/Library/Python/3.9/lib/python/site-packages (from gradio>=4.0->-r requirements.txt (line 5)) (2.3.2)\n",
      "Requirement already satisfied: pydantic>=2.0 in /opt/homebrew/lib/python3.9/site-packages (from gradio>=4.0->-r requirements.txt (line 5)) (2.5.3)\n",
      "Requirement already satisfied: pydub in /opt/homebrew/lib/python3.9/site-packages (from gradio>=4.0->-r requirements.txt (line 5)) (0.25.1)\n",
      "Requirement already satisfied: python-multipart>=0.0.9 in /opt/homebrew/lib/python3.9/site-packages (from gradio>=4.0->-r requirements.txt (line 5)) (0.0.20)\n",
      "Requirement already satisfied: pyyaml<7.0,>=5.0 in /opt/homebrew/lib/python3.9/site-packages (from gradio>=4.0->-r requirements.txt (line 5)) (6.0.1)\n",
      "Requirement already satisfied: ruff>=0.2.2 in /opt/homebrew/lib/python3.9/site-packages (from gradio>=4.0->-r requirements.txt (line 5)) (0.12.11)\n",
      "Requirement already satisfied: semantic-version~=2.0 in /opt/homebrew/lib/python3.9/site-packages (from gradio>=4.0->-r requirements.txt (line 5)) (2.10.0)\n",
      "Requirement already satisfied: tomlkit==0.12.0 in /opt/homebrew/lib/python3.9/site-packages (from gradio>=4.0->-r requirements.txt (line 5)) (0.12.0)\n",
      "Requirement already satisfied: typer<1.0,>=0.12 in /opt/homebrew/lib/python3.9/site-packages (from gradio>=4.0->-r requirements.txt (line 5)) (0.16.1)\n",
      "Requirement already satisfied: typing-extensions~=4.0 in /opt/homebrew/lib/python3.9/site-packages (from gradio>=4.0->-r requirements.txt (line 5)) (4.12.2)\n",
      "Requirement already satisfied: urllib3~=2.0 in /Users/prerak/Library/Python/3.9/lib/python/site-packages (from gradio>=4.0->-r requirements.txt (line 5)) (2.5.0)\n",
      "Requirement already satisfied: uvicorn>=0.14.0 in /opt/homebrew/lib/python3.9/site-packages (from gradio>=4.0->-r requirements.txt (line 5)) (0.35.0)\n",
      "Requirement already satisfied: fsspec in /opt/homebrew/lib/python3.9/site-packages (from gradio-client==1.3.0->gradio>=4.0->-r requirements.txt (line 5)) (2023.12.2)\n",
      "Requirement already satisfied: websockets<13.0,>=10.0 in /opt/homebrew/lib/python3.9/site-packages (from gradio-client==1.3.0->gradio>=4.0->-r requirements.txt (line 5)) (12.0)\n",
      "Requirement already satisfied: idna>=2.8 in /Users/prerak/Library/Python/3.9/lib/python/site-packages (from anyio<5.0,>=3.0->gradio>=4.0->-r requirements.txt (line 5)) (3.10)\n",
      "Requirement already satisfied: sniffio>=1.1 in /opt/homebrew/lib/python3.9/site-packages (from anyio<5.0,>=3.0->gradio>=4.0->-r requirements.txt (line 5)) (1.3.0)\n",
      "Requirement already satisfied: exceptiongroup>=1.0.2 in /opt/homebrew/lib/python3.9/site-packages (from anyio<5.0,>=3.0->gradio>=4.0->-r requirements.txt (line 5)) (1.1.3)\n",
      "Requirement already satisfied: starlette<0.48.0,>=0.40.0 in /opt/homebrew/lib/python3.9/site-packages (from fastapi<1.0->gradio>=4.0->-r requirements.txt (line 5)) (0.47.3)\n",
      "Requirement already satisfied: zipp>=3.1.0 in /Users/prerak/Library/Python/3.9/lib/python/site-packages (from importlib-resources>=3.2.0->matplotlib>=3.7->-r requirements.txt (line 3)) (3.23.0)\n",
      "Requirement already satisfied: pytz>=2020.1 in /Users/prerak/Library/Python/3.9/lib/python/site-packages (from pandas<3.0,>=1.0->gradio>=4.0->-r requirements.txt (line 5)) (2025.2)\n",
      "Requirement already satisfied: tzdata>=2022.7 in /Users/prerak/Library/Python/3.9/lib/python/site-packages (from pandas<3.0,>=1.0->gradio>=4.0->-r requirements.txt (line 5)) (2025.2)\n",
      "Requirement already satisfied: annotated-types>=0.4.0 in /opt/homebrew/lib/python3.9/site-packages (from pydantic>=2.0->gradio>=4.0->-r requirements.txt (line 5)) (0.6.0)\n",
      "Requirement already satisfied: pydantic-core==2.14.6 in /opt/homebrew/lib/python3.9/site-packages (from pydantic>=2.0->gradio>=4.0->-r requirements.txt (line 5)) (2.14.6)\n",
      "Requirement already satisfied: click>=8.0.0 in /Users/prerak/Library/Python/3.9/lib/python/site-packages (from typer<1.0,>=0.12->gradio>=4.0->-r requirements.txt (line 5)) (8.1.8)\n",
      "Requirement already satisfied: shellingham>=1.3.0 in /opt/homebrew/lib/python3.9/site-packages (from typer<1.0,>=0.12->gradio>=4.0->-r requirements.txt (line 5)) (1.5.4)\n",
      "Requirement already satisfied: rich>=10.11.0 in /opt/homebrew/lib/python3.9/site-packages (from typer<1.0,>=0.12->gradio>=4.0->-r requirements.txt (line 5)) (13.7.0)\n"
     ]
    },
    {
     "name": "stdout",
     "output_type": "stream",
     "text": [
      "Requirement already satisfied: certifi in /Users/prerak/Library/Python/3.9/lib/python/site-packages (from httpx>=0.24.1->gradio>=4.0->-r requirements.txt (line 5)) (2025.8.3)\n",
      "Requirement already satisfied: httpcore==1.* in /opt/homebrew/lib/python3.9/site-packages (from httpx>=0.24.1->gradio>=4.0->-r requirements.txt (line 5)) (1.0.5)\n",
      "Requirement already satisfied: h11<0.15,>=0.13 in /opt/homebrew/lib/python3.9/site-packages (from httpcore==1.*->httpx>=0.24.1->gradio>=4.0->-r requirements.txt (line 5)) (0.14.0)\n",
      "Requirement already satisfied: filelock in /opt/homebrew/lib/python3.9/site-packages (from huggingface-hub>=0.19.3->gradio>=4.0->-r requirements.txt (line 5)) (3.12.2)\n",
      "Requirement already satisfied: requests in /Users/prerak/Library/Python/3.9/lib/python/site-packages (from huggingface-hub>=0.19.3->gradio>=4.0->-r requirements.txt (line 5)) (2.32.5)\n",
      "Requirement already satisfied: tqdm>=4.42.1 in /opt/homebrew/lib/python3.9/site-packages (from huggingface-hub>=0.19.3->gradio>=4.0->-r requirements.txt (line 5)) (4.66.1)\n",
      "Requirement already satisfied: six>=1.5 in /opt/homebrew/lib/python3.9/site-packages (from python-dateutil>=2.7->matplotlib>=3.7->-r requirements.txt (line 3)) (1.16.0)\n",
      "Requirement already satisfied: markdown-it-py>=2.2.0 in /opt/homebrew/lib/python3.9/site-packages (from rich>=10.11.0->typer<1.0,>=0.12->gradio>=4.0->-r requirements.txt (line 5)) (3.0.0)\n",
      "Requirement already satisfied: pygments<3.0.0,>=2.13.0 in /Users/prerak/Library/Python/3.9/lib/python/site-packages (from rich>=10.11.0->typer<1.0,>=0.12->gradio>=4.0->-r requirements.txt (line 5)) (2.15.1)\n",
      "Requirement already satisfied: mdurl~=0.1 in /opt/homebrew/lib/python3.9/site-packages (from markdown-it-py>=2.2.0->rich>=10.11.0->typer<1.0,>=0.12->gradio>=4.0->-r requirements.txt (line 5)) (0.1.2)\n",
      "Requirement already satisfied: charset_normalizer<4,>=2 in /Users/prerak/Library/Python/3.9/lib/python/site-packages (from requests->huggingface-hub>=0.19.3->gradio>=4.0->-r requirements.txt (line 5)) (3.4.3)\n",
      "\u001b[33mDEPRECATION: Configuring installation scheme with distutils config files is deprecated and will no longer work in the near future. If you are using a Homebrew or Linuxbrew Python, please see discussion at https://github.com/Homebrew/homebrew-core/issues/76621\u001b[0m\u001b[33m\n",
      "\u001b[0m✅ All dependencies installed! Gradio: 5.44.1\n"
     ]
    }
   ],
   "source": [
    "# Install Dependencies\n",
    "!pip install -r requirements.txt\n",
    "\n",
    "# Verify installation\n",
    "try:\n",
    "    import gradio as gr\n",
    "    print(f\"✅ All dependencies installed! Gradio: {gr.__version__}\")\n",
    "except ImportError:\n",
    "    print(\"⚠️ Installation failed. Please restart kernel and re-run.\")"
   ]
  },
  {
   "cell_type": "code",
   "execution_count": 3,
   "metadata": {},
   "outputs": [
    {
     "name": "stdout",
     "output_type": "stream",
     "text": [
      "🚀 Launching in Jupyter Notebook locally...\n",
      "* Running on local URL:  http://127.0.0.1:7863\n",
      "* To create a public link, set `share=True` in `launch()`.\n"
     ]
    },
    {
     "data": {
      "text/html": [
       "<div><iframe src=\"http://127.0.0.1:7863/\" width=\"100%\" height=\"500\" allow=\"autoplay; camera; microphone; clipboard-read; clipboard-write;\" frameborder=\"0\" allowfullscreen></iframe></div>"
      ],
      "text/plain": [
       "<IPython.core.display.HTML object>"
      ]
     },
     "metadata": {},
     "output_type": "display_data"
    }
   ],
   "source": [
    "# Launch Gradio Interface\n",
    "import os, shutil, sys\n",
    "from app_gradio import create_interface\n",
    "\n",
    "# Re-detect environment (in case variables aren't available)\n",
    "IN_COLAB = 'google.colab' in sys.modules\n",
    "IN_JUPYTER = 'ipykernel' in sys.modules and not IN_COLAB\n",
    "\n",
    "demo = create_interface()\n",
    "\n",
    "# Configure launch based on environment\n",
    "if IN_COLAB:\n",
    "    # Colab: Use share=True for public URL, inline for embedding\n",
    "    print(\"🚀 Launching in Google Colab with public sharing...\")\n",
    "    demo.launch(share=True, inline=True, debug=True)\n",
    "elif IN_JUPYTER:\n",
    "    # Jupyter: Local server only, no sharing needed\n",
    "    print(\"🚀 Launching in Jupyter Notebook locally...\")\n",
    "    demo.launch(share=False, inline=True, debug=False)\n",
    "else:\n",
    "    # Fallback for other environments\n",
    "    print(\"🚀 Launching with default configuration...\")\n",
    "    demo.launch()"
   ]
  },
  {
   "cell_type": "code",
   "execution_count": null,
   "metadata": {},
   "outputs": [],
   "source": []
  }
 ],
 "metadata": {
  "colab": {
   "authorship_tag": "ABX9TyMcPQ7w7F+Y8v+hONKNORz5",
   "include_colab_link": true,
   "provenance": []
  },
  "kernelspec": {
   "display_name": "Python 3 (ipykernel)",
   "language": "python",
   "name": "python3"
  },
  "language_info": {
   "codemirror_mode": {
    "name": "ipython",
    "version": 3
   },
   "file_extension": ".py",
   "mimetype": "text/x-python",
   "name": "python",
   "nbconvert_exporter": "python",
   "pygments_lexer": "ipython3",
   "version": "3.11.8"
  },
  "varInspector": {
   "cols": {
    "lenName": 16,
    "lenType": 16,
    "lenVar": 40
   },
   "kernels_config": {
    "python": {
     "delete_cmd_postfix": "",
     "delete_cmd_prefix": "del ",
     "library": "var_list.py",
     "varRefreshCmd": "print(var_dic_list())"
    },
    "r": {
     "delete_cmd_postfix": ") ",
     "delete_cmd_prefix": "rm(",
     "library": "var_list.r",
     "varRefreshCmd": "cat(var_dic_list()) "
    }
   },
   "types_to_exclude": [
    "module",
    "function",
    "builtin_function_or_method",
    "instance",
    "_Feature"
   ],
   "window_display": false
  }
 },
 "nbformat": 4,
 "nbformat_minor": 4
}
