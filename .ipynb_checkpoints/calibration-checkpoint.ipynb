{
 "cells": [
  {
   "cell_type": "code",
   "execution_count": 1,
   "metadata": {},
   "outputs": [
    {
     "name": "stdout",
     "output_type": "stream",
     "text": [
      "✅ All calibration functions imported and available in notebook\n",
      "Available classes: IO, Calib, Overlay, Render, Img, Board\n"
     ]
    }
   ],
   "source": [
    "# # Import calibration functions from external files\n",
    "# # This makes all functions directly available in the notebook environment\n",
    "\n",
    "# import sys\n",
    "# import os\n",
    "\n",
    "# # Add current directory to path for imports\n",
    "# if os.getcwd() not in sys.path:\n",
    "#     sys.path.append(os.getcwd())\n",
    "\n",
    "# # Import all calibration utilities\n",
    "# from calibration_utils import IO, Calib, Overlay, Render, Img, Board\n",
    "\n",
    "# # Make functions available at notebook level for easy access\n",
    "# # Now you can call Calib.calibrate(), IO.save_json(), etc. directly\n",
    "# print(\"✅ All calibration functions imported and available in notebook\")\n",
    "# print(\"Available classes: IO, Calib, Overlay, Render, Img, Board\")"
   ]
  },
  {
   "cell_type": "markdown",
   "metadata": {
    "colab_type": "text",
    "id": "view-in-github"
   },
   "source": [
    "<a href=\"https://colab.research.google.com/github/prerakpatel51/Assignment/blob/main/Welcome_To_Colab.ipynb\" target=\"_parent\"><img src=\"https://colab.research.google.com/assets/colab-badge.svg\" alt=\"Open In Colab\"/></a>"
   ]
  },
  {
   "cell_type": "code",
   "execution_count": 2,
   "metadata": {},
   "outputs": [
    {
     "name": "stdout",
     "output_type": "stream",
     "text": [
      "Environment: Jupyter Notebook\n",
      "Working directory: /Users/prerak/Desktop/Computer_vision_Assignment\n"
     ]
    }
   ],
   "source": [
    "# # Environment Detection & Setup\n",
    "# import sys, os\n",
    "\n",
    "# # Detect environment & setup\n",
    "# IN_COLAB = 'google.colab' in sys.modules\n",
    "# IN_JUPYTER = 'ipykernel' in sys.modules and not IN_COLAB\n",
    "# print(f\"Environment: {'Google Colab' if IN_COLAB else 'Jupyter Notebook' if IN_JUPYTER else 'Unknown'}\")\n",
    "\n",
    "# if IN_COLAB:\n",
    "#     from google.colab import drive\n",
    "#     drive.mount('/content/drive')\n",
    "#     %cd /content/drive/MyDrive/Colab Notebooks/pinhole\n",
    "#     print(\"Google Drive mounted and directory changed\")\n",
    "# else:\n",
    "#     print(f\"Working directory: {os.getcwd()}\")"
   ]
  },
  {
   "cell_type": "code",
   "execution_count": 3,
   "metadata": {},
   "outputs": [
    {
     "name": "stdout",
     "output_type": "stream",
     "text": [
      "Requirement already satisfied: opencv-python-headless>=4.8 in /Users/prerak/anaconda3/lib/python3.11/site-packages (from -r requirements.txt (line 1)) (4.9.0.80)\n",
      "Requirement already satisfied: numpy>=1.24 in /Users/prerak/anaconda3/lib/python3.11/site-packages (from -r requirements.txt (line 2)) (1.26.3)\n",
      "Requirement already satisfied: matplotlib>=3.7 in /Users/prerak/anaconda3/lib/python3.11/site-packages (from -r requirements.txt (line 3)) (3.8.0)\n",
      "Requirement already satisfied: plotly>=5.20 in /Users/prerak/anaconda3/lib/python3.11/site-packages (from -r requirements.txt (line 4)) (6.3.0)\n",
      "Requirement already satisfied: gradio>=4.0 in /Users/prerak/anaconda3/lib/python3.11/site-packages (from -r requirements.txt (line 5)) (5.44.1)\n",
      "Requirement already satisfied: pillow>=9.0 in /Users/prerak/anaconda3/lib/python3.11/site-packages (from -r requirements.txt (line 6)) (10.2.0)\n",
      "Requirement already satisfied: contourpy>=1.0.1 in /Users/prerak/anaconda3/lib/python3.11/site-packages (from matplotlib>=3.7->-r requirements.txt (line 3)) (1.2.0)\n",
      "Requirement already satisfied: cycler>=0.10 in /Users/prerak/anaconda3/lib/python3.11/site-packages (from matplotlib>=3.7->-r requirements.txt (line 3)) (0.11.0)\n",
      "Requirement already satisfied: fonttools>=4.22.0 in /Users/prerak/anaconda3/lib/python3.11/site-packages (from matplotlib>=3.7->-r requirements.txt (line 3)) (4.25.0)\n",
      "Requirement already satisfied: kiwisolver>=1.0.1 in /Users/prerak/anaconda3/lib/python3.11/site-packages (from matplotlib>=3.7->-r requirements.txt (line 3)) (1.4.4)\n",
      "Requirement already satisfied: packaging>=20.0 in /Users/prerak/anaconda3/lib/python3.11/site-packages (from matplotlib>=3.7->-r requirements.txt (line 3)) (23.2)\n",
      "Requirement already satisfied: pyparsing>=2.3.1 in /Users/prerak/anaconda3/lib/python3.11/site-packages (from matplotlib>=3.7->-r requirements.txt (line 3)) (3.0.9)\n",
      "Requirement already satisfied: python-dateutil>=2.7 in /Users/prerak/anaconda3/lib/python3.11/site-packages (from matplotlib>=3.7->-r requirements.txt (line 3)) (2.8.2)\n",
      "Requirement already satisfied: narwhals>=1.15.1 in /Users/prerak/anaconda3/lib/python3.11/site-packages (from plotly>=5.20->-r requirements.txt (line 4)) (2.3.0)\n",
      "Requirement already satisfied: aiofiles<25.0,>=22.0 in /Users/prerak/anaconda3/lib/python3.11/site-packages (from gradio>=4.0->-r requirements.txt (line 5)) (22.1.0)\n",
      "Requirement already satisfied: anyio<5.0,>=3.0 in /Users/prerak/anaconda3/lib/python3.11/site-packages (from gradio>=4.0->-r requirements.txt (line 5)) (4.2.0)\n",
      "Requirement already satisfied: brotli>=1.1.0 in /Users/prerak/anaconda3/lib/python3.11/site-packages (from gradio>=4.0->-r requirements.txt (line 5)) (1.1.0)\n",
      "Requirement already satisfied: fastapi<1.0,>=0.115.2 in /Users/prerak/anaconda3/lib/python3.11/site-packages (from gradio>=4.0->-r requirements.txt (line 5)) (0.116.1)\n",
      "Requirement already satisfied: ffmpy in /Users/prerak/anaconda3/lib/python3.11/site-packages (from gradio>=4.0->-r requirements.txt (line 5)) (0.6.1)\n",
      "Requirement already satisfied: gradio-client==1.12.1 in /Users/prerak/anaconda3/lib/python3.11/site-packages (from gradio>=4.0->-r requirements.txt (line 5)) (1.12.1)\n",
      "Requirement already satisfied: groovy~=0.1 in /Users/prerak/anaconda3/lib/python3.11/site-packages (from gradio>=4.0->-r requirements.txt (line 5)) (0.1.2)\n",
      "Requirement already satisfied: httpx<1.0,>=0.24.1 in /Users/prerak/anaconda3/lib/python3.11/site-packages (from gradio>=4.0->-r requirements.txt (line 5)) (0.26.0)\n",
      "Requirement already satisfied: huggingface-hub<1.0,>=0.33.5 in /Users/prerak/anaconda3/lib/python3.11/site-packages (from gradio>=4.0->-r requirements.txt (line 5)) (0.34.4)\n",
      "Requirement already satisfied: jinja2<4.0 in /Users/prerak/anaconda3/lib/python3.11/site-packages (from gradio>=4.0->-r requirements.txt (line 5)) (3.1.3)\n",
      "Requirement already satisfied: markupsafe<4.0,>=2.0 in /Users/prerak/anaconda3/lib/python3.11/site-packages (from gradio>=4.0->-r requirements.txt (line 5)) (2.1.3)\n",
      "Requirement already satisfied: orjson~=3.0 in /Users/prerak/anaconda3/lib/python3.11/site-packages (from gradio>=4.0->-r requirements.txt (line 5)) (3.11.3)\n",
      "Requirement already satisfied: pandas<3.0,>=1.0 in /Users/prerak/anaconda3/lib/python3.11/site-packages (from gradio>=4.0->-r requirements.txt (line 5)) (2.1.4)\n",
      "Requirement already satisfied: pydantic<2.12,>=2.0 in /Users/prerak/anaconda3/lib/python3.11/site-packages (from gradio>=4.0->-r requirements.txt (line 5)) (2.5.3)\n",
      "Requirement already satisfied: pydub in /Users/prerak/anaconda3/lib/python3.11/site-packages (from gradio>=4.0->-r requirements.txt (line 5)) (0.25.1)\n",
      "Requirement already satisfied: python-multipart>=0.0.18 in /Users/prerak/anaconda3/lib/python3.11/site-packages (from gradio>=4.0->-r requirements.txt (line 5)) (0.0.20)\n",
      "Requirement already satisfied: pyyaml<7.0,>=5.0 in /Users/prerak/anaconda3/lib/python3.11/site-packages (from gradio>=4.0->-r requirements.txt (line 5)) (6.0.1)\n",
      "Requirement already satisfied: ruff>=0.9.3 in /Users/prerak/anaconda3/lib/python3.11/site-packages (from gradio>=4.0->-r requirements.txt (line 5)) (0.12.11)\n",
      "Requirement already satisfied: safehttpx<0.2.0,>=0.1.6 in /Users/prerak/anaconda3/lib/python3.11/site-packages (from gradio>=4.0->-r requirements.txt (line 5)) (0.1.6)\n",
      "Requirement already satisfied: semantic-version~=2.0 in /Users/prerak/anaconda3/lib/python3.11/site-packages (from gradio>=4.0->-r requirements.txt (line 5)) (2.10.0)\n",
      "Requirement already satisfied: starlette<1.0,>=0.40.0 in /Users/prerak/anaconda3/lib/python3.11/site-packages (from gradio>=4.0->-r requirements.txt (line 5)) (0.47.3)\n",
      "Requirement already satisfied: tomlkit<0.14.0,>=0.12.0 in /Users/prerak/anaconda3/lib/python3.11/site-packages (from gradio>=4.0->-r requirements.txt (line 5)) (0.13.3)\n",
      "Requirement already satisfied: typer<1.0,>=0.12 in /Users/prerak/anaconda3/lib/python3.11/site-packages (from gradio>=4.0->-r requirements.txt (line 5)) (0.17.3)\n",
      "Requirement already satisfied: typing-extensions~=4.0 in /Users/prerak/anaconda3/lib/python3.11/site-packages (from gradio>=4.0->-r requirements.txt (line 5)) (4.11.0)\n",
      "Requirement already satisfied: uvicorn>=0.14.0 in /Users/prerak/anaconda3/lib/python3.11/site-packages (from gradio>=4.0->-r requirements.txt (line 5)) (0.35.0)\n",
      "Requirement already satisfied: fsspec in /Users/prerak/anaconda3/lib/python3.11/site-packages (from gradio-client==1.12.1->gradio>=4.0->-r requirements.txt (line 5)) (2023.10.0)\n",
      "Requirement already satisfied: websockets<16.0,>=10.0 in /Users/prerak/anaconda3/lib/python3.11/site-packages (from gradio-client==1.12.1->gradio>=4.0->-r requirements.txt (line 5)) (10.4)\n",
      "Requirement already satisfied: idna>=2.8 in /Users/prerak/anaconda3/lib/python3.11/site-packages (from anyio<5.0,>=3.0->gradio>=4.0->-r requirements.txt (line 5)) (3.4)\n",
      "Requirement already satisfied: sniffio>=1.1 in /Users/prerak/anaconda3/lib/python3.11/site-packages (from anyio<5.0,>=3.0->gradio>=4.0->-r requirements.txt (line 5)) (1.3.0)\n",
      "Requirement already satisfied: certifi in /Users/prerak/anaconda3/lib/python3.11/site-packages (from httpx<1.0,>=0.24.1->gradio>=4.0->-r requirements.txt (line 5)) (2025.6.15)\n",
      "Requirement already satisfied: httpcore==1.* in /Users/prerak/anaconda3/lib/python3.11/site-packages (from httpx<1.0,>=0.24.1->gradio>=4.0->-r requirements.txt (line 5)) (1.0.2)\n",
      "Requirement already satisfied: h11<0.15,>=0.13 in /Users/prerak/anaconda3/lib/python3.11/site-packages (from httpcore==1.*->httpx<1.0,>=0.24.1->gradio>=4.0->-r requirements.txt (line 5)) (0.14.0)\n",
      "Requirement already satisfied: filelock in /Users/prerak/anaconda3/lib/python3.11/site-packages (from huggingface-hub<1.0,>=0.33.5->gradio>=4.0->-r requirements.txt (line 5)) (3.13.1)\n",
      "Requirement already satisfied: requests in /Users/prerak/anaconda3/lib/python3.11/site-packages (from huggingface-hub<1.0,>=0.33.5->gradio>=4.0->-r requirements.txt (line 5)) (2.31.0)\n",
      "Requirement already satisfied: tqdm>=4.42.1 in /Users/prerak/anaconda3/lib/python3.11/site-packages (from huggingface-hub<1.0,>=0.33.5->gradio>=4.0->-r requirements.txt (line 5)) (4.65.0)\n",
      "Requirement already satisfied: hf-xet<2.0.0,>=1.1.3 in /Users/prerak/anaconda3/lib/python3.11/site-packages (from huggingface-hub<1.0,>=0.33.5->gradio>=4.0->-r requirements.txt (line 5)) (1.1.9)\n",
      "Requirement already satisfied: pytz>=2020.1 in /Users/prerak/anaconda3/lib/python3.11/site-packages (from pandas<3.0,>=1.0->gradio>=4.0->-r requirements.txt (line 5)) (2023.3.post1)\n",
      "Requirement already satisfied: tzdata>=2022.1 in /Users/prerak/anaconda3/lib/python3.11/site-packages (from pandas<3.0,>=1.0->gradio>=4.0->-r requirements.txt (line 5)) (2023.3)\n",
      "Requirement already satisfied: annotated-types>=0.4.0 in /Users/prerak/anaconda3/lib/python3.11/site-packages (from pydantic<2.12,>=2.0->gradio>=4.0->-r requirements.txt (line 5)) (0.6.0)\n",
      "Requirement already satisfied: pydantic-core==2.14.6 in /Users/prerak/anaconda3/lib/python3.11/site-packages (from pydantic<2.12,>=2.0->gradio>=4.0->-r requirements.txt (line 5)) (2.14.6)\n",
      "Requirement already satisfied: six>=1.5 in /Users/prerak/anaconda3/lib/python3.11/site-packages (from python-dateutil>=2.7->matplotlib>=3.7->-r requirements.txt (line 3)) (1.16.0)\n",
      "Requirement already satisfied: click>=8.0.0 in /Users/prerak/anaconda3/lib/python3.11/site-packages (from typer<1.0,>=0.12->gradio>=4.0->-r requirements.txt (line 5)) (8.1.7)\n",
      "Requirement already satisfied: shellingham>=1.3.0 in /Users/prerak/anaconda3/lib/python3.11/site-packages (from typer<1.0,>=0.12->gradio>=4.0->-r requirements.txt (line 5)) (1.5.4)\n",
      "Requirement already satisfied: rich>=10.11.0 in /Users/prerak/anaconda3/lib/python3.11/site-packages (from typer<1.0,>=0.12->gradio>=4.0->-r requirements.txt (line 5)) (13.3.5)\n",
      "Requirement already satisfied: markdown-it-py<3.0.0,>=2.2.0 in /Users/prerak/anaconda3/lib/python3.11/site-packages (from rich>=10.11.0->typer<1.0,>=0.12->gradio>=4.0->-r requirements.txt (line 5)) (2.2.0)\n",
      "Requirement already satisfied: pygments<3.0.0,>=2.13.0 in /Users/prerak/anaconda3/lib/python3.11/site-packages (from rich>=10.11.0->typer<1.0,>=0.12->gradio>=4.0->-r requirements.txt (line 5)) (2.15.1)\n",
      "Requirement already satisfied: charset-normalizer<4,>=2 in /Users/prerak/anaconda3/lib/python3.11/site-packages (from requests->huggingface-hub<1.0,>=0.33.5->gradio>=4.0->-r requirements.txt (line 5)) (2.0.4)\n",
      "Requirement already satisfied: urllib3<3,>=1.21.1 in /Users/prerak/anaconda3/lib/python3.11/site-packages (from requests->huggingface-hub<1.0,>=0.33.5->gradio>=4.0->-r requirements.txt (line 5)) (1.26.20)\n"
     ]
    },
    {
     "name": "stdout",
     "output_type": "stream",
     "text": [
      "Requirement already satisfied: mdurl~=0.1 in /Users/prerak/anaconda3/lib/python3.11/site-packages (from markdown-it-py<3.0.0,>=2.2.0->rich>=10.11.0->typer<1.0,>=0.12->gradio>=4.0->-r requirements.txt (line 5)) (0.1.0)\n",
      "\n",
      "\u001b[1m[\u001b[0m\u001b[34;49mnotice\u001b[0m\u001b[1;39;49m]\u001b[0m\u001b[39;49m A new release of pip is available: \u001b[0m\u001b[31;49m24.3.1\u001b[0m\u001b[39;49m -> \u001b[0m\u001b[32;49m25.2\u001b[0m\n",
      "\u001b[1m[\u001b[0m\u001b[34;49mnotice\u001b[0m\u001b[1;39;49m]\u001b[0m\u001b[39;49m To update, run: \u001b[0m\u001b[32;49m/Users/prerak/anaconda3/bin/python -m pip install --upgrade pip\u001b[0m\n",
      "Note: you may need to restart the kernel to use updated packages.\n",
      "✅ All dependencies installed! Gradio: 5.44.1\n"
     ]
    }
   ],
   "source": [
    "# # Install Dependencies\n",
    "# %pip install -r requirements.txt\n",
    "\n",
    "# # Verify installation\n",
    "# try:\n",
    "#     import gradio as gr\n",
    "#     print(f\"✅ All dependencies installed! Gradio: {gr.__version__}\")\n",
    "# except ImportError:\n",
    "#     print(\"⚠️ Installation failed. Please restart kernel and re-run.\")"
   ]
  },
  {
   "cell_type": "code",
   "execution_count": 4,
   "metadata": {},
   "outputs": [
    {
     "name": "stdout",
     "output_type": "stream",
     "text": [
      "🚀 Launching in Jupyter Notebook locally...\n",
      "* Running on local URL:  http://127.0.0.1:7861\n",
      "* To create a public link, set `share=True` in `launch()`.\n"
     ]
    },
    {
     "data": {
      "text/html": [
       "<div><iframe src=\"http://127.0.0.1:7861/\" width=\"100%\" height=\"500\" allow=\"autoplay; camera; microphone; clipboard-read; clipboard-write;\" frameborder=\"0\" allowfullscreen></iframe></div>"
      ],
      "text/plain": [
       "<IPython.core.display.HTML object>"
      ]
     },
     "metadata": {},
     "output_type": "display_data"
    }
   ],
   "source": [
    "# # Launch Gradio Interface\n",
    "# import os, shutil, sys\n",
    "# from app_gradio import create_interface\n",
    "\n",
    "# # Re-detect environment (in case variables aren't available)\n",
    "# IN_COLAB = 'google.colab' in sys.modules\n",
    "# IN_JUPYTER = 'ipykernel' in sys.modules and not IN_COLAB\n",
    "\n",
    "# demo = create_interface()\n",
    "\n",
    "# # Configure launch based on environment\n",
    "# if IN_COLAB:\n",
    "#     # Colab: Use share=True for public URL, inline for embedding\n",
    "#     print(\"🚀 Launching in Google Colab with public sharing...\")\n",
    "#     demo.launch(share=True, inline=True, debug=True)\n",
    "# elif IN_JUPYTER:\n",
    "#     # Jupyter: Local server only, no sharing needed\n",
    "#     print(\"🚀 Launching in Jupyter Notebook locally...\")\n",
    "#     demo.launch(share=False, inline=True, debug=False)\n",
    "# else:\n",
    "#     # Fallback for other environments\n",
    "#     print(\"🚀 Launching with default configuration...\")\n",
    "#     demo.launch()"
   ]
  },
  {
   "cell_type": "code",
   "execution_count": 1,
   "metadata": {},
   "outputs": [
    {
     "name": "stdout",
     "output_type": "stream",
     "text": [
      "🚀 Starting Camera Calibration Pipeline...\n",
      "Environment: Jupyter Notebook\n",
      "Working directory: /Users/prerak/Desktop/Computer_vision_Assignment\n",
      "📦 Installing dependencies...\n",
      "✅ Dependencies installed successfully!\n",
      "✅ Gradio verified: 5.44.1\n",
      "✅ All calibration functions imported successfully\n",
      "Available classes: IO, Calib, Overlay, Render, Img, Board\n",
      "🚀 Launching Gradio interface...\n",
      "* Running on local URL:  http://127.0.0.1:7861\n",
      "* To create a public link, set `share=True` in `launch()`.\n"
     ]
    },
    {
     "data": {
      "text/html": [
       "<div><iframe src=\"http://127.0.0.1:7861/\" width=\"100%\" height=\"500\" allow=\"autoplay; camera; microphone; clipboard-read; clipboard-write;\" frameborder=\"0\" allowfullscreen></iframe></div>"
      ],
      "text/plain": [
       "<IPython.core.display.HTML object>"
      ]
     },
     "metadata": {},
     "output_type": "display_data"
    },
    {
     "name": "stdout",
     "output_type": "stream",
     "text": [
      "✅ Calibration pipeline launched successfully!\n"
     ]
    }
   ],
   "source": [
    "#!/usr/bin/env python3\n",
    "\"\"\"\n",
    "Single function to run the entire calibration pipeline.\n",
    "Usage: python camera_calibration.py or import and call run_calibration_pipeline()\n",
    "\"\"\"\n",
    "\n",
    "import sys\n",
    "import os\n",
    "import subprocess\n",
    "\n",
    "def run_calibration_pipeline():\n",
    "    \"\"\"\n",
    "    Consolidated function that runs the entire calibration.ipynb pipeline.\n",
    "    This includes dependency installation, environment setup, and launching the Gradio interface.\n",
    "    \"\"\"\n",
    "    \n",
    "    print(\"🚀 Starting Camera Calibration Pipeline...\")\n",
    "    \n",
    "    # Step 1: Environment Detection\n",
    "    IN_COLAB = 'google.colab' in sys.modules\n",
    "    IN_JUPYTER = 'ipykernel' in sys.modules and not IN_COLAB\n",
    "    print(f\"Environment: {'Google Colab' if IN_COLAB else 'Jupyter Notebook' if IN_JUPYTER else 'Script/Terminal'}\")\n",
    "    \n",
    "    # Step 2: Handle Google Colab setup if needed\n",
    "    if IN_COLAB:\n",
    "        try:\n",
    "            from google.colab import drive\n",
    "            drive.mount('/content/drive')\n",
    "            os.chdir('/content/drive/MyDrive/Colab Notebooks/pinhole')\n",
    "            print(\"Google Drive mounted and directory changed\")\n",
    "        except Exception as e:\n",
    "            print(f\"⚠️ Colab setup failed: {e}\")\n",
    "    else:\n",
    "        print(f\"Working directory: {os.getcwd()}\")\n",
    "    \n",
    "    # Step 3: Install Dependencies\n",
    "    print(\"📦 Installing dependencies...\")\n",
    "    try:\n",
    "        subprocess.run([sys.executable, \"-m\", \"pip\", \"install\", \"-r\", \"requirements.txt\"], \n",
    "                      check=True, capture_output=True)\n",
    "        print(\"✅ Dependencies installed successfully!\")\n",
    "    except subprocess.CalledProcessError as e:\n",
    "        print(f\"⚠️ Dependency installation failed: {e}\")\n",
    "        return False\n",
    "    \n",
    "    # Step 4: Verify critical imports\n",
    "    try:\n",
    "        import gradio as gr\n",
    "        print(f\"✅ Gradio verified: {gr.__version__}\")\n",
    "    except ImportError:\n",
    "        print(\"⚠️ Critical imports failed. Please restart and try again.\")\n",
    "        return False\n",
    "    \n",
    "    # Step 5: Add current directory to path and import calibration utilities\n",
    "    if os.getcwd() not in sys.path:\n",
    "        sys.path.append(os.getcwd())\n",
    "    \n",
    "    try:\n",
    "        from calibration_utils import IO, Calib, Overlay, Render, Img, Board\n",
    "        print(\"✅ All calibration functions imported successfully\")\n",
    "        print(\"Available classes: IO, Calib, Overlay, Render, Img, Board\")\n",
    "    except ImportError as e:\n",
    "        print(f\"⚠️ Failed to import calibration utilities: {e}\")\n",
    "        return False\n",
    "    \n",
    "    # Step 6: Launch Gradio Interface\n",
    "    try:\n",
    "        from app_gradio import create_interface\n",
    "        demo = create_interface()\n",
    "        \n",
    "        print(\"🚀 Launching Gradio interface...\")\n",
    "        if IN_COLAB:\n",
    "            demo.launch(share=True, inline=True, debug=True)\n",
    "        elif IN_JUPYTER:\n",
    "            demo.launch(share=False, inline=True, debug=False)\n",
    "        else:\n",
    "            # For script execution, launch with share=False and don't block\n",
    "            demo.launch(share=False, debug=False)\n",
    "            \n",
    "        print(\"✅ Calibration pipeline launched successfully!\")\n",
    "        return True\n",
    "        \n",
    "    except Exception as e:\n",
    "        print(f\"⚠️ Failed to launch Gradio interface: {e}\")\n",
    "        return False\n",
    "\n",
    "if __name__ == \"__main__\":\n",
    "    success = run_calibration_pipeline()\n",
    "    if not success:\n",
    "        sys.exit(1)"
   ]
  },
  {
   "cell_type": "code",
   "execution_count": null,
   "metadata": {},
   "outputs": [],
   "source": []
  }
 ],
 "metadata": {
  "colab": {
   "authorship_tag": "ABX9TyMcPQ7w7F+Y8v+hONKNORz5",
   "include_colab_link": true,
   "provenance": []
  },
  "kernelspec": {
   "display_name": "Python 3 (ipykernel)",
   "language": "python",
   "name": "python3"
  },
  "language_info": {
   "codemirror_mode": {
    "name": "ipython",
    "version": 3
   },
   "file_extension": ".py",
   "mimetype": "text/x-python",
   "name": "python",
   "nbconvert_exporter": "python",
   "pygments_lexer": "ipython3",
   "version": "3.11.8"
  },
  "varInspector": {
   "cols": {
    "lenName": 16,
    "lenType": 16,
    "lenVar": 40
   },
   "kernels_config": {
    "python": {
     "delete_cmd_postfix": "",
     "delete_cmd_prefix": "del ",
     "library": "var_list.py",
     "varRefreshCmd": "print(var_dic_list())"
    },
    "r": {
     "delete_cmd_postfix": ") ",
     "delete_cmd_prefix": "rm(",
     "library": "var_list.r",
     "varRefreshCmd": "cat(var_dic_list()) "
    }
   },
   "types_to_exclude": [
    "module",
    "function",
    "builtin_function_or_method",
    "instance",
    "_Feature"
   ],
   "window_display": false
  }
 },
 "nbformat": 4,
 "nbformat_minor": 4
}
