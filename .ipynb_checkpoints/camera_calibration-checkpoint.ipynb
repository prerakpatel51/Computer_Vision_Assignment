{
 "cells": [
  {
   "cell_type": "code",
   "execution_count": 1,
   "metadata": {},
   "outputs": [
    {
     "name": "stdout",
     "output_type": "stream",
     "text": [
      "🚀 Starting Camera Calibration Pipeline...\n",
      "Environment: Jupyter Notebook\n",
      "Working directory: /Users/prerak/Desktop/Computer_vision_Assignment\n",
      "📦 Installing dependencies...\n",
      "✅ Dependencies installed successfully!\n",
      "✅ Gradio verified: 5.44.1\n",
      "✅ All calibration functions imported successfully\n",
      "Available classes: IO, Calib, Overlay, Render, Img, Board\n",
      "🚀 Launching Gradio interface...\n",
      "* Running on local URL:  http://127.0.0.1:7861\n",
      "* To create a public link, set `share=True` in `launch()`.\n"
     ]
    },
    {
     "data": {
      "text/html": [
       "<div><iframe src=\"http://127.0.0.1:7861/\" width=\"100%\" height=\"500\" allow=\"autoplay; camera; microphone; clipboard-read; clipboard-write;\" frameborder=\"0\" allowfullscreen></iframe></div>"
      ],
      "text/plain": [
       "<IPython.core.display.HTML object>"
      ]
     },
     "metadata": {},
     "output_type": "display_data"
    },
    {
     "name": "stdout",
     "output_type": "stream",
     "text": [
      "✅ Calibration pipeline launched successfully!\n"
     ]
    }
   ],
   "source": [
    "#!/usr/bin/env python3\n",
    "\"\"\"\n",
    "Single function to run the entire calibration pipeline.\n",
    "Usage: python camera_calibration.py or import and call run_calibration_pipeline()\n",
    "\"\"\"\n",
    "\n",
    "import sys\n",
    "import os\n",
    "import subprocess\n",
    "\n",
    "def run_calibration_pipeline():\n",
    "    \"\"\"\n",
    "    Consolidated function that runs the entire calibration.ipynb pipeline.\n",
    "    This includes dependency installation, environment setup, and launching the Gradio interface.\n",
    "    \"\"\"\n",
    "    \n",
    "    print(\"🚀 Starting Camera Calibration Pipeline...\")\n",
    "    \n",
    "    # Step 1: Environment Detection\n",
    "    IN_COLAB = 'google.colab' in sys.modules\n",
    "    IN_JUPYTER = 'ipykernel' in sys.modules and not IN_COLAB\n",
    "    print(f\"Environment: {'Google Colab' if IN_COLAB else 'Jupyter Notebook' if IN_JUPYTER else 'Script/Terminal'}\")\n",
    "    \n",
    "    # Step 2: Handle Google Colab setup if needed\n",
    "    if IN_COLAB:\n",
    "        try:\n",
    "            from google.colab import drive\n",
    "            drive.mount('/content/drive')\n",
    "            os.chdir('/content/drive/MyDrive/Colab Notebooks/pinhole')\n",
    "            print(\"Google Drive mounted and directory changed\")\n",
    "        except Exception as e:\n",
    "            print(f\"⚠️ Colab setup failed: {e}\")\n",
    "    else:\n",
    "        print(f\"Working directory: {os.getcwd()}\")\n",
    "    \n",
    "    # Step 3: Install Dependencies\n",
    "    print(\"📦 Installing dependencies...\")\n",
    "    try:\n",
    "        subprocess.run([sys.executable, \"-m\", \"pip\", \"install\", \"-r\", \"requirements.txt\"], \n",
    "                      check=True, capture_output=True)\n",
    "        print(\"✅ Dependencies installed successfully!\")\n",
    "    except subprocess.CalledProcessError as e:\n",
    "        print(f\"⚠️ Dependency installation failed: {e}\")\n",
    "        return False\n",
    "    \n",
    "    # Step 4: Verify critical imports\n",
    "    try:\n",
    "        import gradio as gr\n",
    "        print(f\"✅ Gradio verified: {gr.__version__}\")\n",
    "    except ImportError:\n",
    "        print(\"⚠️ Critical imports failed. Please restart and try again.\")\n",
    "        return False\n",
    "    \n",
    "    # Step 5: Add current directory to path and import calibration utilities\n",
    "    if os.getcwd() not in sys.path:\n",
    "        sys.path.append(os.getcwd())\n",
    "    \n",
    "    try:\n",
    "        from calibration_utils import IO, Calib, Overlay, Render, Img, Board\n",
    "        print(\"✅ All calibration functions imported successfully\")\n",
    "        print(\"Available classes: IO, Calib, Overlay, Render, Img, Board\")\n",
    "    except ImportError as e:\n",
    "        print(f\"⚠️ Failed to import calibration utilities: {e}\")\n",
    "        return False\n",
    "    \n",
    "    # Step 6: Launch Gradio Interface\n",
    "    try:\n",
    "        from app_gradio import create_interface\n",
    "        demo = create_interface()\n",
    "        \n",
    "        print(\"🚀 Launching Gradio interface...\")\n",
    "        if IN_COLAB:\n",
    "            demo.launch(share=True, inline=True, debug=True)\n",
    "        elif IN_JUPYTER:\n",
    "            demo.launch(share=False, inline=True, debug=False)\n",
    "        else:\n",
    "            # For script execution, launch with share=False and don't block\n",
    "            demo.launch(share=False, debug=False)\n",
    "            \n",
    "        print(\"✅ Calibration pipeline launched successfully!\")\n",
    "        return True\n",
    "        \n",
    "    except Exception as e:\n",
    "        print(f\"⚠️ Failed to launch Gradio interface: {e}\")\n",
    "        return False\n",
    "\n",
    "if __name__ == \"__main__\":\n",
    "    success = run_calibration_pipeline()\n",
    "    if not success:\n",
    "        sys.exit(1)"
   ]
  },
  {
   "cell_type": "code",
   "execution_count": null,
   "metadata": {},
   "outputs": [],
   "source": []
  }
 ],
 "metadata": {
  "colab": {
   "authorship_tag": "ABX9TyMcPQ7w7F+Y8v+hONKNORz5",
   "include_colab_link": true,
   "provenance": []
  },
  "kernelspec": {
   "display_name": "Python 3 (ipykernel)",
   "language": "python",
   "name": "python3"
  },
  "language_info": {
   "codemirror_mode": {
    "name": "ipython",
    "version": 3
   },
   "file_extension": ".py",
   "mimetype": "text/x-python",
   "name": "python",
   "nbconvert_exporter": "python",
   "pygments_lexer": "ipython3",
   "version": "3.11.8"
  },
  "varInspector": {
   "cols": {
    "lenName": 16,
    "lenType": 16,
    "lenVar": 40
   },
   "kernels_config": {
    "python": {
     "delete_cmd_postfix": "",
     "delete_cmd_prefix": "del ",
     "library": "var_list.py",
     "varRefreshCmd": "print(var_dic_list())"
    },
    "r": {
     "delete_cmd_postfix": ") ",
     "delete_cmd_prefix": "rm(",
     "library": "var_list.r",
     "varRefreshCmd": "cat(var_dic_list()) "
    }
   },
   "types_to_exclude": [
    "module",
    "function",
    "builtin_function_or_method",
    "instance",
    "_Feature"
   ],
   "window_display": false
  }
 },
 "nbformat": 4,
 "nbformat_minor": 4
}
